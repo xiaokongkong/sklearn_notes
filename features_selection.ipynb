{
 "cells": [
  {
   "cell_type": "code",
   "execution_count": null,
   "metadata": {},
   "outputs": [],
   "source": [
    "'''3.1.2 通过特征筛选来寻找最佳的特征组合'''"
   ]
  },
  {
   "cell_type": "code",
   "execution_count": 8,
   "metadata": {},
   "outputs": [],
   "source": [
    "# 导入pandas并更名为pd\n",
    "import pandas as pd\n",
    "# 从互联网读取titanic数据\n",
    "titanic = pd.read_csv('http://biostat.mc.vanderbilt.edu/wiki/pub/Main/DataSets/titanic.txt')"
   ]
  },
  {
   "cell_type": "code",
   "execution_count": 17,
   "metadata": {},
   "outputs": [
    {
     "name": "stdout",
     "output_type": "stream",
     "text": [
      "<class 'pandas.core.frame.DataFrame'>\n",
      "RangeIndex: 1313 entries, 0 to 1312\n",
      "Data columns (total 11 columns):\n",
      "row.names    1313 non-null int64\n",
      "pclass       1313 non-null object\n",
      "survived     1313 non-null int64\n",
      "name         1313 non-null object\n",
      "age          633 non-null float64\n",
      "embarked     821 non-null object\n",
      "home.dest    754 non-null object\n",
      "room         77 non-null object\n",
      "ticket       69 non-null object\n",
      "boat         347 non-null object\n",
      "sex          1313 non-null object\n",
      "dtypes: float64(1), int64(2), object(8)\n",
      "memory usage: 112.9+ KB\n"
     ]
    }
   ],
   "source": [
    "titanic.info()"
   ]
  },
  {
   "cell_type": "code",
   "execution_count": 19,
   "metadata": {},
   "outputs": [
    {
     "name": "stdout",
     "output_type": "stream",
     "text": [
      "<class 'pandas.core.frame.DataFrame'>\n",
      "RangeIndex: 1313 entries, 0 to 1312\n",
      "Data columns (total 8 columns):\n",
      "pclass       1313 non-null object\n",
      "age          1313 non-null float64\n",
      "embarked     1313 non-null object\n",
      "home.dest    1313 non-null object\n",
      "room         1313 non-null object\n",
      "ticket       1313 non-null object\n",
      "boat         1313 non-null object\n",
      "sex          1313 non-null object\n",
      "dtypes: float64(1), object(7)\n",
      "memory usage: 82.1+ KB\n",
      "None\n"
     ]
    }
   ],
   "source": [
    "# 分离数据特征与预测目标\n",
    "y = titanic['survived']\n",
    "X = titanic.drop(['row.names', 'name', 'survived'], axis=1)\n",
    "\n",
    "# 对缺失数据进行填充 \n",
    "# fillna返回一个新对象，inplace = True 可以就地填充\n",
    "X['age'].fillna(X['age'].mean(), inplace=True)\n",
    "X.fillna('UnKNOWN', inplace=True)\n",
    "\n",
    "print(X.info())"
   ]
  },
  {
   "cell_type": "code",
   "execution_count": 18,
   "metadata": {},
   "outputs": [
    {
     "name": "stdout",
     "output_type": "stream",
     "text": [
      "474\n"
     ]
    }
   ],
   "source": [
    "# 分割数据，依然采样25%用于测试\n",
    "from sklearn.cross_validation import train_test_split\n",
    "X_train, X_test, y_train, y_test = train_test_split(X, y, test_size=0.25, random_state=33)\n",
    "\n",
    "# 类别型特征向量化\n",
    "from sklearn.feature_extraction import DictVectorizer\n",
    "vec = DictVectorizer()\n",
    "# dateframe.to_dict() 就是把dateframe转换成字典，但是orient='record'表示结果为 list， like [{column -> value}, ... , {column -> value}]\n",
    "X_train = vec.fit_transform(X_train.to_dict(orient='record')) \n",
    "X_test = vec.transform(X_test.to_dict(orient='record'))\n",
    "\n",
    "# 输出处理后的特征向量维度\n",
    "print(len(vec.feature_names_))"
   ]
  },
  {
   "cell_type": "code",
   "execution_count": 15,
   "metadata": {},
   "outputs": [
    {
     "data": {
      "text/plain": [
       "0.8297872340425532"
      ]
     },
     "execution_count": 15,
     "metadata": {},
     "output_type": "execute_result"
    }
   ],
   "source": [
    "# 使用决策树模型依靠所有特征进行预测，并作性能评估\n",
    "from sklearn.tree import DecisionTreeClassifier\n",
    "dt = DecisionTreeClassifier(criterion='entropy') # 使用信息熵作为划分标准，对决策树进行训练 \n",
    "dt.fit(X_train, y_train)\n",
    "dt.score(X_test, y_test)"
   ]
  },
  {
   "cell_type": "code",
   "execution_count": 29,
   "metadata": {},
   "outputs": [
    {
     "data": {
      "text/plain": [
       "0.851063829787234"
      ]
     },
     "execution_count": 29,
     "metadata": {},
     "output_type": "execute_result"
    }
   ],
   "source": [
    "# 从sklearn中导入特征筛选器\n",
    "from sklearn import feature_selection\n",
    "# 筛选前5%的特征，使用相同配置的决策树模型进行预测，并且评估性能\n",
    "fs = feature_selection.SelectPercentile(feature_selection.chi2, percentile=5)\n",
    "X_train_fs = fs.fit_transform(X_train, y_train)\n",
    "dt.fit(X_train_fs, y_train)\n",
    "X_test_fs = fs.transform(X_test)\n",
    "dt.score(X_test_fs, y_test)"
   ]
  },
  {
   "cell_type": "code",
   "execution_count": 32,
   "metadata": {},
   "outputs": [
    {
     "name": "stdout",
     "output_type": "stream",
     "text": [
      "[0.85063904 0.85673057 0.87501546 0.88622964 0.87308802 0.87816945\n",
      " 0.87613894 0.87611833 0.86900639 0.87207792 0.87306741 0.87409812\n",
      " 0.87206761 0.86491445 0.86898578 0.86796537 0.86999588 0.86490414\n",
      " 0.8710369  0.86697588 0.86897547 0.86694496 0.87407751 0.87105751\n",
      " 0.87001649 0.87000618 0.87404659 0.87508761 0.86794475 0.87508761\n",
      " 0.87407751 0.87404659 0.87508761 0.87402597 0.87201608 0.8760874\n",
      " 0.8760771  0.875067   0.87101629 0.87098536 0.8760771  0.87199546\n",
      " 0.86693465 0.86897547 0.87203669 0.87101629 0.86694496 0.86591424\n",
      " 0.86286333 0.85982272]\n"
     ]
    }
   ],
   "source": [
    "# 通过交叉验证的方法，按照固定间隔的百分比筛选特征，并作图展示性能随特征筛选比例的变化\n",
    "from sklearn.cross_validation import cross_val_score\n",
    "import numpy as np\n",
    "percentiles = range(1, 100, 2)\n",
    "results = []\n",
    "\n",
    "for i in percentiles:\n",
    "    fs = feature_selection.SelectPercentile(feature_selection.chi2, percentile=i) # chi2卡方检验\n",
    "    X_train_fs = fs.fit_transform(X_train, y_train)\n",
    "    scores = cross_val_score(dt, X_train_fs, y_train, cv=5) # cv:交叉验证的迭代词数\n",
    "    results = np.append(results, scores.mean()) \n",
    "    \n",
    "print(results)"
   ]
  },
  {
   "cell_type": "code",
   "execution_count": 43,
   "metadata": {},
   "outputs": [
    {
     "name": "stdout",
     "output_type": "stream",
     "text": [
      "<class 'numpy.ndarray'>\n"
     ]
    }
   ],
   "source": [
    "# 找到体现最佳性能的特征筛选的百分比\n",
    "opt = np.where(results == results.max())[0]\n",
    "print(type(opt))"
   ]
  },
  {
   "cell_type": "code",
   "execution_count": 44,
   "metadata": {},
   "outputs": [
    {
     "name": "stdout",
     "output_type": "stream",
     "text": [
      "Optimal number of features 7\n"
     ]
    }
   ],
   "source": [
    "# 因为opt的类型是numpy.ndarray,所以输出时要先转为整数\n",
    "print('Optimal number of features %d' % percentiles[int(opt)])"
   ]
  },
  {
   "cell_type": "code",
   "execution_count": 48,
   "metadata": {},
   "outputs": [
    {
     "data": {
      "image/png": "[encoded data removed]",
      "text/plain": [
       "<Figure size 432x288 with 1 Axes>"
      ]
     },
     "metadata": {},
     "output_type": "display_data"
    }
   ],
   "source": [
    "import pylab as pl\n",
    "pl.plot(percentiles, results)\n",
    "pl.xlabel('percentiles of features')\n",
    "pl.ylabel('accuracy')\n",
    "pl.show()"
   ]
  },
  {
   "cell_type": "code",
   "execution_count": 51,
   "metadata": {},
   "outputs": [
    {
     "data": {
      "text/plain": [
       "0.8601823708206687"
      ]
     },
     "execution_count": 51,
     "metadata": {},
     "output_type": "execute_result"
    }
   ],
   "source": [
    "# 使用最佳筛选后的特征，利用相同配置的模型在测试集上进行性能评估\n",
    "from sklearn import feature_selection\n",
    "fs = feature_selection.SelectPercentile(feature_selection.chi2, percentile=7)\n",
    "X_train_fs = fs.fit_transform(X_train, y_train)\n",
    "dt.fit(X_train_fs, y_train)\n",
    "X_test_fs = fs.transform(X_test)\n",
    "dt.score(X_test_fs, y_test)"
   ]
  }
 ],
 "metadata": {
  "kernelspec": {
   "display_name": "Python 3",
   "language": "python",
   "name": "python3"
  },
  "language_info": {
   "codemirror_mode": {
    "name": "ipython",
    "version": 3
   },
   "file_extension": ".py",
   "mimetype": "text/x-python",
   "name": "python",
   "nbconvert_exporter": "python",
   "pygments_lexer": "ipython3",
   "version": "3.6.4"
  }
 },
 "nbformat": 4,
 "nbformat_minor": 2
}
