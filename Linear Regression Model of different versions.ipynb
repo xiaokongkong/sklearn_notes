{
 "cells": [
  {
   "cell_type": "code",
   "execution_count": 1,
   "metadata": {},
   "outputs": [],
   "source": [
    "import numpy as np\n",
    "\n",
    "X = 2 * np.random.rand(100, 1)\n",
    "y = 4 + 3 * X + np.random.rand(100, 1)"
   ]
  },
  {
   "cell_type": "code",
   "execution_count": 2,
   "metadata": {},
   "outputs": [
    {
     "name": "stdout",
     "output_type": "stream",
     "text": [
      "[[4.57547716]\n",
      " [2.9636076 ]]\n",
      "[[ 4.57547716]\n",
      " [10.50269235]]\n"
     ]
    }
   ],
   "source": [
    "'''利用numpy, 纯公式计算'''\n",
    "# np.linalg.inv() 计算矩阵的逆\n",
    "# dot() 方法 计算矩阵的内积\n",
    "X_b = np.c_[np.ones((100, 1)), X] # add x0=1 to each instance\n",
    "theta_best = np.linalg.inv(X_b.T.dot(X_b)).dot(X_b.T).dot(y)\n",
    "print(theta_best)\n",
    "\n",
    "# make predictions using  θ^\n",
    "X_new = np.array([[0], [2]])\n",
    "X_new_b = np.c_[np.ones((2,1)), X_new] # add x0=1 to each instance\n",
    "y_predict = X_new_b.dot(theta_best)\n",
    "print(y_predict)"
   ]
  },
  {
   "cell_type": "code",
   "execution_count": 4,
   "metadata": {},
   "outputs": [
    {
     "name": "stdout",
     "output_type": "stream",
     "text": [
      "[4.57547716] [[2.9636076]]\n",
      "[[ 4.57547716]\n",
      " [10.50269235]]\n"
     ]
    }
   ],
   "source": [
    "'''sklearn 版本'''\n",
    "from sklearn.linear_model import LinearRegression\n",
    "lin_reg = LinearRegression()\n",
    "lin_reg.fit(X, y)\n",
    "print(lin_reg.intercept_, lin_reg.coef_)\n",
    "\n",
    "# 预测 \n",
    "X_new = np.array([[0], [2]])\n",
    "print(lin_reg.predict(X_new))"
   ]
  },
  {
   "cell_type": "code",
   "execution_count": 6,
   "metadata": {},
   "outputs": [
    {
     "name": "stdout",
     "output_type": "stream",
     "text": [
      "[[4.57547716]\n",
      " [2.9636076 ]]\n",
      "[[ 4.57547716]\n",
      " [10.50269235]]\n"
     ]
    }
   ],
   "source": [
    "'''tensorflow 版本'''\n",
    "import tensorflow as tf\n",
    "\n",
    "X_b = np.c_[np.ones((100, 1)), X] # add x0=1 to each instance\n",
    "X_b_T = tf.transpose(X_b)\n",
    "theta = tf.matmul(tf.matmul(tf.matrix_inverse(tf.matmul(X_b_T, X_b)), X_b_T), y)\n",
    "\n",
    "# 预测\n",
    "X_new = np.array([[0], [2]])\n",
    "X_new_b = np.c_[np.ones((2,1)), X_new] # add x0=1 to each instance\n",
    "y_predict = tf.matmul(X_new_b, theta)\n",
    "\n",
    "with tf.Session() as sess:\n",
    "    theta_val, y_predict_val = sess.run([theta, y_predict])\n",
    "    print(theta_val)\n",
    "    print(y_predict_val)"
   ]
  },
  {
   "cell_type": "code",
   "execution_count": null,
   "metadata": {},
   "outputs": [],
   "source": []
  }
 ],
 "metadata": {
  "kernelspec": {
   "display_name": "Python 3",
   "language": "python",
   "name": "python3"
  },
  "language_info": {
   "codemirror_mode": {
    "name": "ipython",
    "version": 3
   },
   "file_extension": ".py",
   "mimetype": "text/x-python",
   "name": "python",
   "nbconvert_exporter": "python",
   "pygments_lexer": "ipython3",
   "version": "3.6.4"
  }
 },
 "nbformat": 4,
 "nbformat_minor": 2
}
